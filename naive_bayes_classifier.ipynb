{
  "nbformat": 4,
  "nbformat_minor": 0,
  "metadata": {
    "colab": {
      "provenance": []
    },
    "kernelspec": {
      "name": "python3",
      "display_name": "Python 3"
    },
    "language_info": {
      "name": "python"
    }
  },
  "cells": [
    {
      "cell_type": "markdown",
      "source": [
        "# Predicting news categories using Naive Bayes\n",
        "---\n",
        "In this project, our main objective is to predict news categories using only headline texts. To achieve this objective, we will use the Naive Bayes classifier.<br/>\n",
        "The dataset can be found [here](https://www.kaggle.com/datasets/rmisra/news-category-dataset)<br/>\n",
        "Author: [Gabriel Lins](https://github.com/gabrielblins)\n"
      ],
      "metadata": {
        "id": "ACjnnFaxF71P"
      }
    },
    {
      "cell_type": "code",
      "source": [
        "import pandas as pd\n",
        "import numpy as np\n",
        "import string\n",
        "\n",
        "from sklearn.preprocessing import LabelEncoder\n",
        "from sklearn.model_selection import train_test_split\n",
        "from sklearn.feature_extraction.text import CountVectorizer\n",
        "from sklearn.naive_bayes import MultinomialNB, ComplementNB\n",
        "from sklearn.metrics import classification_report"
      ],
      "metadata": {
        "id": "LBQUVXWThmMI"
      },
      "execution_count": 1,
      "outputs": []
    },
    {
      "cell_type": "code",
      "source": [
        "df = pd.read_parquet('datasets/news-dataset.parquet')"
      ],
      "metadata": {
        "id": "Q8yT8LqYho9W"
      },
      "execution_count": 2,
      "outputs": []
    },
    {
      "cell_type": "code",
      "source": [
        "df.columns"
      ],
      "metadata": {
        "colab": {
          "base_uri": "https://localhost:8080/"
        },
        "id": "25X81XIphsPo",
        "outputId": "23b2d35c-2829-4785-e57c-840607a50521"
      },
      "execution_count": 3,
      "outputs": [
        {
          "output_type": "execute_result",
          "data": {
            "text/plain": [
              "Index(['category', 'headline', 'authors', 'link', 'short_description', 'date'], dtype='object')"
            ]
          },
          "metadata": {},
          "execution_count": 3
        }
      ]
    },
    {
      "cell_type": "code",
      "source": [
        "df.category.nunique()"
      ],
      "metadata": {
        "colab": {
          "base_uri": "https://localhost:8080/"
        },
        "id": "xoRRHjxb-gFL",
        "outputId": "c31e3328-4e3f-4efa-c522-c692b5a288ec"
      },
      "execution_count": 231,
      "outputs": [
        {
          "output_type": "execute_result",
          "data": {
            "text/plain": [
              "41"
            ]
          },
          "metadata": {},
          "execution_count": 231
        }
      ]
    },
    {
      "cell_type": "code",
      "source": [
        "df.category.unique()"
      ],
      "metadata": {
        "colab": {
          "base_uri": "https://localhost:8080/"
        },
        "id": "CjM7CkoDicVH",
        "outputId": "2c8f8463-2fbc-4ad9-e78c-7d73af643ef1"
      },
      "execution_count": 230,
      "outputs": [
        {
          "output_type": "execute_result",
          "data": {
            "text/plain": [
              "array(['CRIME', 'ENTERTAINMENT', 'WORLD NEWS', 'IMPACT', 'POLITICS',\n",
              "       'WEIRD NEWS', 'BLACK VOICES', 'WOMEN', 'COMEDY', 'QUEER VOICES',\n",
              "       'SPORTS', 'BUSINESS', 'TRAVEL', 'MEDIA', 'TECH', 'RELIGION',\n",
              "       'SCIENCE', 'LATINO VOICES', 'EDUCATION', 'COLLEGE', 'PARENTS',\n",
              "       'ARTS & CULTURE', 'STYLE', 'GREEN', 'TASTE', 'HEALTHY LIVING',\n",
              "       'THE WORLDPOST', 'GOOD NEWS', 'WORLDPOST', 'FIFTY', 'ARTS',\n",
              "       'WELLNESS', 'PARENTING', 'HOME & LIVING', 'STYLE & BEAUTY',\n",
              "       'DIVORCE', 'WEDDINGS', 'FOOD & DRINK', 'MONEY', 'ENVIRONMENT',\n",
              "       'CULTURE & ARTS'], dtype=object)"
            ]
          },
          "metadata": {},
          "execution_count": 230
        }
      ]
    },
    {
      "cell_type": "code",
      "source": [
        "# Para fins didáticos, selecionei apenas 6 categorias\n",
        "classes = ['COMEDY', 'SPORTS', 'BUSINESS', 'TRAVEL', 'FOOD & DRINK', 'STYLE & BEAUTY']    "
      ],
      "metadata": {
        "id": "IEKt8fpBifA2"
      },
      "execution_count": 271,
      "outputs": []
    },
    {
      "cell_type": "code",
      "source": [
        "func = lambda x: x if  x in classes else np.nan\n",
        "df_news = df.loc[df['category'].apply(func).dropna().index.to_list()]\n",
        "df_news = df_news[['category','headline']]\n",
        "df_news.reset_index(inplace=True, drop=True)"
      ],
      "metadata": {
        "id": "h0Gt7gMGpAMb"
      },
      "execution_count": 324,
      "outputs": []
    },
    {
      "cell_type": "code",
      "source": [
        "df_news.category.unique()"
      ],
      "metadata": {
        "colab": {
          "base_uri": "https://localhost:8080/"
        },
        "id": "Lnt6nPRlnyuT",
        "outputId": "e6b753af-af0d-4ed3-90d7-feb141c1dd3c"
      },
      "execution_count": 325,
      "outputs": [
        {
          "output_type": "execute_result",
          "data": {
            "text/plain": [
              "array(['COMEDY', 'SPORTS', 'BUSINESS', 'TRAVEL', 'STYLE & BEAUTY',\n",
              "       'FOOD & DRINK'], dtype=object)"
            ]
          },
          "metadata": {},
          "execution_count": 325
        }
      ]
    },
    {
      "cell_type": "code",
      "source": [
        "df_news.category.value_counts()"
      ],
      "metadata": {
        "colab": {
          "base_uri": "https://localhost:8080/"
        },
        "id": "UpQ5tWPOoe7K",
        "outputId": "ddf6ba4b-6421-4656-c9ef-58d5582457c1"
      },
      "execution_count": 326,
      "outputs": [
        {
          "output_type": "execute_result",
          "data": {
            "text/plain": [
              "TRAVEL            9887\n",
              "STYLE & BEAUTY    9649\n",
              "FOOD & DRINK      6226\n",
              "BUSINESS          5937\n",
              "COMEDY            5175\n",
              "SPORTS            4884\n",
              "Name: category, dtype: int64"
            ]
          },
          "metadata": {},
          "execution_count": 326
        }
      ]
    },
    {
      "cell_type": "code",
      "source": [
        "top_cols = df_news.category.value_counts().index.to_list()"
      ],
      "metadata": {
        "id": "YvBgeLzgpxZm"
      },
      "execution_count": 327,
      "outputs": []
    },
    {
      "cell_type": "code",
      "source": [
        "encoder = LabelEncoder()\n",
        "df_news.loc[:,'category'] = encoder.fit_transform(df_news['category'].values)\n",
        "df_news.category.value_counts()"
      ],
      "metadata": {
        "colab": {
          "base_uri": "https://localhost:8080/"
        },
        "id": "gcOU4vPJoHff",
        "outputId": "38dc05be-1d9d-4caf-c858-089dc6698dc1"
      },
      "execution_count": 328,
      "outputs": [
        {
          "output_type": "execute_result",
          "data": {
            "text/plain": [
              "5    9887\n",
              "4    9649\n",
              "2    6226\n",
              "0    5937\n",
              "1    5175\n",
              "3    4884\n",
              "Name: category, dtype: int64"
            ]
          },
          "metadata": {},
          "execution_count": 328
        }
      ]
    },
    {
      "cell_type": "code",
      "source": [
        "top_labels = df_news.category.value_counts().index.to_list()"
      ],
      "metadata": {
        "id": "fEBFKFk6p7YX"
      },
      "execution_count": 329,
      "outputs": []
    },
    {
      "cell_type": "code",
      "source": [
        "label_category = {}\n",
        "for key,value in zip(top_labels, top_cols):\n",
        "    label_category[key] = value\n",
        "label_category"
      ],
      "metadata": {
        "colab": {
          "base_uri": "https://localhost:8080/"
        },
        "id": "6-GqlFfyqCCD",
        "outputId": "9afb74e3-fb5c-4b31-eeb3-72b782e448b8"
      },
      "execution_count": 330,
      "outputs": [
        {
          "output_type": "execute_result",
          "data": {
            "text/plain": [
              "{5: 'TRAVEL',\n",
              " 4: 'STYLE & BEAUTY',\n",
              " 2: 'FOOD & DRINK',\n",
              " 0: 'BUSINESS',\n",
              " 1: 'COMEDY',\n",
              " 3: 'SPORTS'}"
            ]
          },
          "metadata": {},
          "execution_count": 330
        }
      ]
    },
    {
      "cell_type": "code",
      "source": [
        "df_news['headline'] = df_news.headline.map(\n",
        "    lambda x: x.lower().translate(str.maketrans('','', string.punctuation))\n",
        ")\n",
        "\n",
        "df_news.head()"
      ],
      "metadata": {
        "colab": {
          "base_uri": "https://localhost:8080/",
          "height": 206
        },
        "id": "6gYhzbibmjso",
        "outputId": "b2f31a62-eca5-47d7-bc81-38d9898c2ffd"
      },
      "execution_count": 331,
      "outputs": [
        {
          "output_type": "execute_result",
          "data": {
            "text/plain": [
              "   category                                           headline\n",
              "0         1    trumps new magathemed swimwear sinks on twitter\n",
              "1         1  seth meyers has 1 funny regret after trump can...\n",
              "2         1  colbert wants to turn nyc subway rides into a ...\n",
              "3         1  jimmy kimmel knows why irans supreme leader wa...\n",
              "4         1  late night writers breathless royal wedding re..."
            ],
            "text/html": [
              "\n",
              "  <div id=\"df-787dbd04-9244-43d4-a22a-4df16fe33ab6\">\n",
              "    <div class=\"colab-df-container\">\n",
              "      <div>\n",
              "<style scoped>\n",
              "    .dataframe tbody tr th:only-of-type {\n",
              "        vertical-align: middle;\n",
              "    }\n",
              "\n",
              "    .dataframe tbody tr th {\n",
              "        vertical-align: top;\n",
              "    }\n",
              "\n",
              "    .dataframe thead th {\n",
              "        text-align: right;\n",
              "    }\n",
              "</style>\n",
              "<table border=\"1\" class=\"dataframe\">\n",
              "  <thead>\n",
              "    <tr style=\"text-align: right;\">\n",
              "      <th></th>\n",
              "      <th>category</th>\n",
              "      <th>headline</th>\n",
              "    </tr>\n",
              "  </thead>\n",
              "  <tbody>\n",
              "    <tr>\n",
              "      <th>0</th>\n",
              "      <td>1</td>\n",
              "      <td>trumps new magathemed swimwear sinks on twitter</td>\n",
              "    </tr>\n",
              "    <tr>\n",
              "      <th>1</th>\n",
              "      <td>1</td>\n",
              "      <td>seth meyers has 1 funny regret after trump can...</td>\n",
              "    </tr>\n",
              "    <tr>\n",
              "      <th>2</th>\n",
              "      <td>1</td>\n",
              "      <td>colbert wants to turn nyc subway rides into a ...</td>\n",
              "    </tr>\n",
              "    <tr>\n",
              "      <th>3</th>\n",
              "      <td>1</td>\n",
              "      <td>jimmy kimmel knows why irans supreme leader wa...</td>\n",
              "    </tr>\n",
              "    <tr>\n",
              "      <th>4</th>\n",
              "      <td>1</td>\n",
              "      <td>late night writers breathless royal wedding re...</td>\n",
              "    </tr>\n",
              "  </tbody>\n",
              "</table>\n",
              "</div>\n",
              "      <button class=\"colab-df-convert\" onclick=\"convertToInteractive('df-787dbd04-9244-43d4-a22a-4df16fe33ab6')\"\n",
              "              title=\"Convert this dataframe to an interactive table.\"\n",
              "              style=\"display:none;\">\n",
              "        \n",
              "  <svg xmlns=\"http://www.w3.org/2000/svg\" height=\"24px\"viewBox=\"0 0 24 24\"\n",
              "       width=\"24px\">\n",
              "    <path d=\"M0 0h24v24H0V0z\" fill=\"none\"/>\n",
              "    <path d=\"M18.56 5.44l.94 2.06.94-2.06 2.06-.94-2.06-.94-.94-2.06-.94 2.06-2.06.94zm-11 1L8.5 8.5l.94-2.06 2.06-.94-2.06-.94L8.5 2.5l-.94 2.06-2.06.94zm10 10l.94 2.06.94-2.06 2.06-.94-2.06-.94-.94-2.06-.94 2.06-2.06.94z\"/><path d=\"M17.41 7.96l-1.37-1.37c-.4-.4-.92-.59-1.43-.59-.52 0-1.04.2-1.43.59L10.3 9.45l-7.72 7.72c-.78.78-.78 2.05 0 2.83L4 21.41c.39.39.9.59 1.41.59.51 0 1.02-.2 1.41-.59l7.78-7.78 2.81-2.81c.8-.78.8-2.07 0-2.86zM5.41 20L4 18.59l7.72-7.72 1.47 1.35L5.41 20z\"/>\n",
              "  </svg>\n",
              "      </button>\n",
              "      \n",
              "  <style>\n",
              "    .colab-df-container {\n",
              "      display:flex;\n",
              "      flex-wrap:wrap;\n",
              "      gap: 12px;\n",
              "    }\n",
              "\n",
              "    .colab-df-convert {\n",
              "      background-color: #E8F0FE;\n",
              "      border: none;\n",
              "      border-radius: 50%;\n",
              "      cursor: pointer;\n",
              "      display: none;\n",
              "      fill: #1967D2;\n",
              "      height: 32px;\n",
              "      padding: 0 0 0 0;\n",
              "      width: 32px;\n",
              "    }\n",
              "\n",
              "    .colab-df-convert:hover {\n",
              "      background-color: #E2EBFA;\n",
              "      box-shadow: 0px 1px 2px rgba(60, 64, 67, 0.3), 0px 1px 3px 1px rgba(60, 64, 67, 0.15);\n",
              "      fill: #174EA6;\n",
              "    }\n",
              "\n",
              "    [theme=dark] .colab-df-convert {\n",
              "      background-color: #3B4455;\n",
              "      fill: #D2E3FC;\n",
              "    }\n",
              "\n",
              "    [theme=dark] .colab-df-convert:hover {\n",
              "      background-color: #434B5C;\n",
              "      box-shadow: 0px 1px 3px 1px rgba(0, 0, 0, 0.15);\n",
              "      filter: drop-shadow(0px 1px 2px rgba(0, 0, 0, 0.3));\n",
              "      fill: #FFFFFF;\n",
              "    }\n",
              "  </style>\n",
              "\n",
              "      <script>\n",
              "        const buttonEl =\n",
              "          document.querySelector('#df-787dbd04-9244-43d4-a22a-4df16fe33ab6 button.colab-df-convert');\n",
              "        buttonEl.style.display =\n",
              "          google.colab.kernel.accessAllowed ? 'block' : 'none';\n",
              "\n",
              "        async function convertToInteractive(key) {\n",
              "          const element = document.querySelector('#df-787dbd04-9244-43d4-a22a-4df16fe33ab6');\n",
              "          const dataTable =\n",
              "            await google.colab.kernel.invokeFunction('convertToInteractive',\n",
              "                                                     [key], {});\n",
              "          if (!dataTable) return;\n",
              "\n",
              "          const docLinkHtml = 'Like what you see? Visit the ' +\n",
              "            '<a target=\"_blank\" href=https://colab.research.google.com/notebooks/data_table.ipynb>data table notebook</a>'\n",
              "            + ' to learn more about interactive tables.';\n",
              "          element.innerHTML = '';\n",
              "          dataTable['output_type'] = 'display_data';\n",
              "          await google.colab.output.renderOutput(dataTable, element);\n",
              "          const docLink = document.createElement('div');\n",
              "          docLink.innerHTML = docLinkHtml;\n",
              "          element.appendChild(docLink);\n",
              "        }\n",
              "      </script>\n",
              "    </div>\n",
              "  </div>\n",
              "  "
            ]
          },
          "metadata": {},
          "execution_count": 331
        }
      ]
    },
    {
      "cell_type": "code",
      "source": [
        "X,y = df_news['headline'], df_news['category']"
      ],
      "metadata": {
        "id": "URmEnLdcqzAo"
      },
      "execution_count": 332,
      "outputs": []
    },
    {
      "cell_type": "code",
      "source": [
        "X_train, X_test, y_train, y_test = train_test_split(X,y,test_size=.1,stratify=y,random_state = 1)\n",
        "\n",
        "print(\"Training dataset: \", X_train.shape[0])\n",
        "print(\"Test dataset: \", X_test.shape[0])"
      ],
      "metadata": {
        "colab": {
          "base_uri": "https://localhost:8080/"
        },
        "id": "7T6WqfqTqn1e",
        "outputId": "073e99b2-f0b1-4928-8500-8faffb114479"
      },
      "execution_count": 333,
      "outputs": [
        {
          "output_type": "stream",
          "name": "stdout",
          "text": [
            "Training dataset:  37582\n",
            "Test dataset:  4176\n"
          ]
        }
      ]
    },
    {
      "cell_type": "code",
      "source": [
        "count_vector = CountVectorizer(stop_words = 'english')\n",
        "training_data = count_vector.fit_transform(X_train)\n",
        "testing_data = count_vector.transform(X_test)"
      ],
      "metadata": {
        "id": "eC9hGoMSrFKK"
      },
      "execution_count": 334,
      "outputs": []
    },
    {
      "cell_type": "code",
      "source": [
        "naive_bayes = ComplementNB(alpha=.78)#\n",
        "naive_bayes.fit(training_data, y_train)"
      ],
      "metadata": {
        "colab": {
          "base_uri": "https://localhost:8080/"
        },
        "id": "QYxZhTTmrNTN",
        "outputId": "7442e423-4dff-499e-de50-d11e608f2b68"
      },
      "execution_count": 368,
      "outputs": [
        {
          "output_type": "execute_result",
          "data": {
            "text/plain": [
              "ComplementNB(alpha=0.78)"
            ]
          },
          "metadata": {},
          "execution_count": 368
        }
      ]
    },
    {
      "cell_type": "code",
      "source": [
        "predictions = naive_bayes.predict(testing_data)\n",
        "predictions"
      ],
      "metadata": {
        "colab": {
          "base_uri": "https://localhost:8080/"
        },
        "id": "uix_Z7OQrSmR",
        "outputId": "350bd6f9-9c04-480b-eac0-49205b5e7fc3"
      },
      "execution_count": 369,
      "outputs": [
        {
          "output_type": "execute_result",
          "data": {
            "text/plain": [
              "array([5, 4, 4, ..., 4, 2, 5])"
            ]
          },
          "metadata": {},
          "execution_count": 369
        }
      ]
    },
    {
      "cell_type": "code",
      "source": [
        "print(classification_report(y_test, predictions, digits=4))"
      ],
      "metadata": {
        "colab": {
          "base_uri": "https://localhost:8080/"
        },
        "id": "wvuJtNE-rV5N",
        "outputId": "ea3e7c77-07d6-45ba-87ab-6ba291d7002c"
      },
      "execution_count": 370,
      "outputs": [
        {
          "output_type": "stream",
          "name": "stdout",
          "text": [
            "              precision    recall  f1-score   support\n",
            "\n",
            "           0     0.8564    0.7828    0.8179       594\n",
            "           1     0.8239    0.7331    0.7758       517\n",
            "           2     0.8544    0.8668    0.8606       623\n",
            "           3     0.8124    0.9139    0.8602       488\n",
            "           4     0.8878    0.9264    0.9067       965\n",
            "           5     0.8751    0.8716    0.8734       989\n",
            "\n",
            "    accuracy                         0.8587      4176\n",
            "   macro avg     0.8517    0.8491    0.8491      4176\n",
            "weighted avg     0.8586    0.8587    0.8577      4176\n",
            "\n"
          ]
        }
      ]
    },
    {
      "cell_type": "code",
      "source": [
        "# Vamos verificar na prática se o nosso modelo consegue prever a categoria de notícias que ele nunca viu antes.\n",
        "headline_test = ['How To Solve Every Type Of Body Odor: What Works And What Doesn’t', # Style & Beauty\n",
        "                 'How You Eat A Hot Dog Can Say A Lot About Where You’re From', # Food & Drink\n",
        "                 'Want Clear Skin This Summer? Make These Updates To Your Routine.', # Style & Beauty\n",
        "                 'Inflation Might Be Easing, But Gear Up For What’s To Come', # Business\n",
        "                 'How To Calm Anxiety During Turbulence, According To Flight Attendants', # Travel\n",
        "                 'Lewandowski scores twice to take Barca top', #Sports\n",
        "                 'Laughter in the dark: Behind the scenes on the UK stand-up circuit'] # Comedy\n",
        "category_test = [4,2,4,0,5,3,1] #"
      ],
      "metadata": {
        "id": "rYmUowbH0Fof"
      },
      "execution_count": 371,
      "outputs": []
    },
    {
      "cell_type": "code",
      "source": [
        "headline_test = [i.lower().translate(str.maketrans('','', string.punctuation)) for i in headline_test]\n",
        "test_headline = count_vector.transform(headline_test)\n",
        "test_pred = naive_bayes.predict(test_headline)"
      ],
      "metadata": {
        "id": "WlGNfM5D1ALG"
      },
      "execution_count": 372,
      "outputs": []
    },
    {
      "cell_type": "code",
      "source": [
        "print('True Category','Predicted Category', sep='\\t\\t')\n",
        "for tr,pr in zip(category_test, test_pred):\n",
        "    if len(label_category[tr]) < 7:\n",
        "        sep = '\\t\\t\\t'\n",
        "    else:\n",
        "        sep='\\t\\t'\n",
        "    print(label_category[tr], label_category[pr], sep=sep)\n"
      ],
      "metadata": {
        "colab": {
          "base_uri": "https://localhost:8080/"
        },
        "id": "42yY9qFO3lYl",
        "outputId": "58cbfbda-2fef-426c-f1e8-077695692449"
      },
      "execution_count": 377,
      "outputs": [
        {
          "output_type": "stream",
          "name": "stdout",
          "text": [
            "True Category\t\tPredicted Category\n",
            "STYLE & BEAUTY\t\tSPORTS\n",
            "FOOD & DRINK\t\tFOOD & DRINK\n",
            "STYLE & BEAUTY\t\tSTYLE & BEAUTY\n",
            "BUSINESS\t\tBUSINESS\n",
            "TRAVEL\t\t\tTRAVEL\n",
            "SPORTS\t\t\tSPORTS\n",
            "COMEDY\t\t\tCOMEDY\n"
          ]
        }
      ]
    },
    {
      "cell_type": "code",
      "source": [],
      "metadata": {
        "id": "Jt-tWqfa429P"
      },
      "execution_count": null,
      "outputs": []
    }
  ]
}